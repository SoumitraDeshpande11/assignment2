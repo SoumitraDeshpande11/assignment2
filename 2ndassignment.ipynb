{
 "cells": [
  {
   "cell_type": "markdown",
   "metadata": {},
   "source": [
    "## Functions and Modules\n"
   ]
  },
  {
   "cell_type": "markdown",
   "metadata": {},
   "source": [
    "Q1. **Write a Python function that accepts a string and counts the number of upper and lower\n",
    "case letters.**\n",
    "Sample String : 'The quick Brow Fox'\n",
    "Expected Output :\n",
    "No. of Upper case characters : 3\n",
    "No. of Lower case Characters : 12"
   ]
  },
  {
   "cell_type": "code",
   "execution_count": 27,
   "metadata": {},
   "outputs": [
    {
     "name": "stdout",
     "output_type": "stream",
     "text": [
      "No. of Upper case character :3\n",
      "No. of lower case character :12\n"
     ]
    }
   ],
   "source": [
    "def count_letters(s):\n",
    "    uppercase_count=0\n",
    "    lowercase_count=0\n",
    "    \n",
    "    for char in s:\n",
    "        if char.isupper():\n",
    "             uppercase_count += 1\n",
    "        elif char.islower():\n",
    "            lowercase_count += 1     \n",
    "    print(f\"No. of Upper case character :{uppercase_count}\")    \n",
    "    print(f\"No. of lower case character :{lowercase_count}\")    \n",
    "\n",
    "s = \"The quick Brow Fox\" \n",
    "count_letters(s)                       \n",
    "\t\t\t  \n",
    "       \n",
    "\n",
    "\t\t\n",
    "\n",
    "\t\t\t\t\n",
    "\t\t\t\t\t\t\t"
   ]
  },
  {
   "cell_type": "markdown",
   "metadata": {},
   "source": [
    "Q2. **Write a Python function that takes a list and returns a new list with distinct elements from\n",
    "the first list.**\n",
    "Sample List : [1,2,3,3,3,3,4,5]\n",
    "Unique List : [1, 2, 3, 4, 5]"
   ]
  },
  {
   "cell_type": "code",
   "execution_count": 1,
   "metadata": {},
   "outputs": [
    {
     "name": "stdout",
     "output_type": "stream",
     "text": [
      "Unique List: [1, 2, 3, 4, 5]\n"
     ]
    }
   ],
   "source": [
    "def unique_list(lst):\n",
    "    return list(set(lst))\n",
    "\n",
    "sample_list = [1, 2, 3, 3, 3, 3, 4, 5]\n",
    "unique_values = unique_list(sample_list)\n",
    "print(f'Unique List: {unique_values}')\n"
   ]
  },
  {
   "cell_type": "markdown",
   "metadata": {},
   "source": [
    "Q3.**Write a Python function to check whether a number is \"Perfect\" or not.\n",
    "Hint: In number theory, a perfect number is a positive integer that is equal to the sum of\n",
    "its proper positive divisors, that is, the sum of its positive divisors excluding the number\n",
    "itself (also known as its aliquot sum). Equivalently, a perfect number is a number that is\n",
    "half the sum of all of its positive divisors (including itself).\n",
    "Example : The first perfect number is 6, because 1, 2, and 3 are its proper positive\n",
    "divisors, and 1 + 2 + 3 = 6. Equivalently, the number 6 is equal to half the sum of all its\n",
    "positive divisors: ( 1 + 2 + 3 + 6 ) / 2 = 6. The next perfect number is 28 = 1 + 2 + 4 + 7 +\n",
    "14. This is followed by the perfect numbers 496 and 8128.**"
   ]
  },
  {
   "cell_type": "code",
   "execution_count": 4,
   "metadata": {},
   "outputs": [
    {
     "name": "stdout",
     "output_type": "stream",
     "text": [
      "6 is a perfect number.\n"
     ]
    }
   ],
   "source": [
    "def number_isperfect(n):\n",
    "    if n < 1:\n",
    "        return False\n",
    "    sum_divisors = 0\n",
    "    for i in range(1, n):\n",
    "        if n % i == 0:\n",
    "            sum_divisors += i\n",
    "    return sum_divisors == n\n",
    "\n",
    "n= int(input(\"Enter a number to check if it is perfect : \"))\n",
    "\n",
    "if number_isperfect(n):\n",
    "    print(f'{n} is a perfect number.')\n",
    "else :\n",
    "    print(f'{n} is not a perfect number.')\n",
    "\n",
    "        "
   ]
  },
  {
   "cell_type": "markdown",
   "metadata": {},
   "source": [
    "Q4. **Write a Python program that accepts a hyphen-separated sequence of words as input and\n",
    "prints the words in a hyphen-separated sequence after sorting them alphabetically.**"
   ]
  },
  {
   "cell_type": "code",
   "execution_count": 7,
   "metadata": {},
   "outputs": [
    {
     "name": "stdout",
     "output_type": "stream",
     "text": [
      "Sorted Sequence: no-society-soul-watashiwa-yokoso\n"
     ]
    }
   ],
   "source": [
    "\n",
    "input_sequence = input(\"Enter a hyphen-separated sequence of words: \")\n",
    "\n",
    "words_list = input_sequence.split('-')\n",
    "\n",
    "words_list.sort()\n",
    "\n",
    "\n",
    "sorted_sequence = '-'.join(words_list)\n",
    "print(f'Sorted Sequence: {sorted_sequence}')\n",
    "\n",
    "\n",
    "\n",
    "\n",
    "    \n"
   ]
  },
  {
   "cell_type": "markdown",
   "metadata": {},
   "source": [
    "Q5. **WAP to demonstrate the functionality of positional argument in functions ?**"
   ]
  },
  {
   "cell_type": "code",
   "execution_count": 11,
   "metadata": {},
   "outputs": [
    {
     "name": "stdout",
     "output_type": "stream",
     "text": [
      "Details of the Student is:\n",
      "Name of the student:soumitra deshpande \n",
      "id:4035\n",
      "Birth_date: 11/07/2006\n",
      "degree:Btech CSE\n",
      "\n"
     ]
    }
   ],
   "source": [
    "def details_student(name,id,birth_date,degree):\n",
    "    print( f\"Details of the Student is:\\nName of the student:{name}\\nid:{id}\\nBirth_date: {birth_date}\\ndegree:{degree}\\n\")\n",
    "\n",
    "details_student('soumitra deshpande ', id='4035',birth_date='11/07/2006', degree= 'Btech CSE')"
   ]
  },
  {
   "cell_type": "markdown",
   "metadata": {},
   "source": [
    "Q6.**WAP to demonstrate the functionality of keyword argument in functions ?**\n"
   ]
  },
  {
   "cell_type": "code",
   "execution_count": 14,
   "metadata": {},
   "outputs": [
    {
     "name": "stdout",
     "output_type": "stream",
     "text": [
      "Area of the rectangle: 18\n",
      "Area of the circle: 314.0\n",
      "Area of the triangle: 6.0\n"
     ]
    }
   ],
   "source": [
    "def calculate_area(shape, **kwargs):\n",
    "    if shape == \"rectangle\":\n",
    "        length = kwargs.get('length', 1)\n",
    "        width = kwargs.get('width', 1)\n",
    "        return length * width\n",
    "    elif shape == \"circle\":\n",
    "        radius = kwargs.get('radius', 1)\n",
    "        return 3.14 * (radius ** 2)\n",
    "    elif shape == \"triangle\":\n",
    "        base = kwargs.get('base', 1)\n",
    "        height = kwargs.get('height', 1)\n",
    "        return 0.5 * base * height\n",
    "    else:\n",
    "        return \"Shape not supported\"\n",
    "\n",
    "rectangle_area = calculate_area(\"rectangle\", length=6, width=3)\n",
    "circle_area = calculate_area(\"circle\", radius=10)\n",
    "triangle_area = calculate_area(\"triangle\", base=4, height=3)\n",
    "\n",
    "print(f\"Area of the rectangle: {rectangle_area}\")\n",
    "print(f\"Area of the circle: {circle_area}\")\n",
    "print(f\"Area of the triangle: {triangle_area}\")\n",
    "\n"
   ]
  },
  {
   "cell_type": "markdown",
   "metadata": {},
   "source": [
    "Q7. **WAP to demonstrate how positional arguments and keyword arguments can be used in\n",
    "functions**"
   ]
  },
  {
   "cell_type": "code",
   "execution_count": 15,
   "metadata": {},
   "outputs": [
    {
     "name": "stdout",
     "output_type": "stream",
     "text": [
      "Car Make: Toyota\n",
      "Model: Camry\n",
      "Year: 2020\n",
      "Color: Unknown\n",
      "Mileage: 0 miles\n",
      "\n",
      "Car Make: Honda\n",
      "Model: Civic\n",
      "Year: 2019\n",
      "Color: Red\n",
      "Mileage: 0 miles\n",
      "\n",
      "Car Make: Ford\n",
      "Model: Mustang\n",
      "Year: 2021\n",
      "Color: Blue\n",
      "Mileage: 1500 miles\n",
      "\n"
     ]
    }
   ],
   "source": [
    "def car_description(make, model, year, color=\"Unknown\", mileage=0):\n",
    "    description = f\"Car Make: {make}\\n\"\n",
    "    description += f\"Model: {model}\\n\"\n",
    "    description += f\"Year: {year}\\n\"\n",
    "    description += f\"Color: {color}\\n\"\n",
    "    description += f\"Mileage: {mileage} miles\\n\"\n",
    "    return description\n",
    "\n",
    "\n",
    "car1 = car_description(\"Toyota\", \"Camry\", 2020)\n",
    "print(car1)\n",
    "\n",
    "\n",
    "car2 = car_description(\"Honda\", \"Civic\", 2019, color=\"Red\")\n",
    "print(car2)\n",
    "\n",
    "car3 = car_description(make=\"Ford\", model=\"Mustang\", year=2021, color=\"Blue\", mileage=1500)\n",
    "print(car3)\n",
    "\n",
    "\n",
    "\n",
    "\n",
    "\n",
    "     "
   ]
  },
  {
   "cell_type": "markdown",
   "metadata": {},
   "source": [
    "Q8. **WAP to demonstrate the functionality of default argument in functions**"
   ]
  },
  {
   "cell_type": "code",
   "execution_count": 18,
   "metadata": {},
   "outputs": [
    {
     "name": "stdout",
     "output_type": "stream",
     "text": [
      "Hello, Soumitra!\n",
      "Hi, pranav!\n",
      "Welcome, Raj!\n"
     ]
    }
   ],
   "source": [
    "def greet(name, greeting=\"Hello\"):\n",
    "    print(f\"{greeting}, {name}!\")\n",
    "\n",
    "greet(\"Soumitra\")\n",
    "greet(\"pranav\", greeting=\"Hi\")\n",
    "greet(name=\"Raj\", greeting=\"Welcome\")\n"
   ]
  },
  {
   "cell_type": "markdown",
   "metadata": {},
   "source": [
    "Q9. **WAP to demonstrate how variable length arguments are used in functions.**"
   ]
  },
  {
   "cell_type": "code",
   "execution_count": 20,
   "metadata": {},
   "outputs": [
    {
     "name": "stdout",
     "output_type": "stream",
     "text": [
      "15\n"
     ]
    }
   ],
   "source": [
    "def sum_number(*args):\n",
    "    return sum(args)\n",
    "print(sum_number(1,2,3,4,5))"
   ]
  },
  {
   "cell_type": "markdown",
   "metadata": {},
   "source": [
    "Q10. **WAP to demonstrate how variable length keyword arguments are used in functions.**\n",
    "\n"
   ]
  },
  {
   "cell_type": "code",
   "execution_count": 22,
   "metadata": {},
   "outputs": [
    {
     "name": "stdout",
     "output_type": "stream",
     "text": [
      "Student Information: \n",
      "name: soumitra\n",
      "age: 18\n",
      "birth_place: new panvel\n",
      "cs_language: python\n"
     ]
    }
   ],
   "source": [
    "def dislay_student_info(**kwargs):\n",
    "    print(\"Student Information: \")\n",
    "    for key, value in kwargs.items():\n",
    "                print(f'{key}: {value}')\n",
    "                \n",
    "dislay_student_info(name='soumitra',age=18, birth_place='new panvel',cs_language='python')\n",
    "\n",
    "    \n",
    "\t"
   ]
  },
  {
   "cell_type": "markdown",
   "metadata": {},
   "source": [
    "Q 11. **WAP to demonstrate how to create your own modules for common mathematical\n",
    "operations and import it and use it.**"
   ]
  },
  {
   "cell_type": "code",
   "execution_count": null,
   "metadata": {},
   "outputs": [],
   "source": [
    "import sys\n",
    "\n",
    "sys.path.append('/Users/soumitra/Library/Containers/net.whatsapp.WhatsApp/Data/tmp/documents/B90C1185-F637-4FD6-97B4-6D485C33B9A9')  # Replace this with your actual path\n",
    "\n",
    "import calc as ops\n",
    "\n",
    "num1 = 10\n",
    "num2 = 5\n",
    "\n",
    "print(f\"Addition of {num1} and {num2}: {ops.add(num1, num2)}\")\n",
    "print(f\"Subtraction of {num1} and {num2}: {ops.subtract(num1, num2)}\")\n",
    "print(f\"Multiplication of {num1} and {num2}: {ops.multiply(num1, num2)}\")\n",
    "print(f\"Division of {num1} and {num2}: {ops.divide(num1, num2)}\")\n",
    "print(f\"Division of {num1} and 0: {ops.divide(num1, 0)}\")\n",
    "\n",
    "\n",
    "\n",
    "''' \n",
    "\n",
    "calc.py - \n",
    "\n",
    "def add(a, b):\n",
    "    \"\"\"Return the sum of two numbers.\"\"\"\n",
    "    return a + b\n",
    "\n",
    "def subtract(a, b):\n",
    "    \"\"\"Return the difference of two numbers.\"\"\"\n",
    "    return a - b\n",
    "\n",
    "def multiply(a, b):\n",
    "    \"\"\"Return the product of two numbers.\"\"\"\n",
    "    return a * b\n",
    "\n",
    "def divide(a, b):\n",
    "    \"\"\"Return the quotient of two numbers.\"\"\"\n",
    "    if b == 0:\n",
    "        return \"Error: Division by zero.\"\n",
    "    return a / b\n",
    "'''"
   ]
  },
  {
   "cell_type": "markdown",
   "metadata": {},
   "source": [
    "Q12. **WAP to demonstrate following functions in math module:**\n",
    "a. Ceil\n",
    "b. Trunc\n",
    "c. Floor\n",
    "d. Factorial\n",
    "e. Fabs\n",
    "f. Pow\n",
    "g. Fmod\n",
    "h. Fsum\n",
    "i. Prod\n",
    "j. sqrt"
   ]
  },
  {
   "cell_type": "code",
   "execution_count": 26,
   "metadata": {},
   "outputs": [
    {
     "name": "stdout",
     "output_type": "stream",
     "text": [
      "Ceil of 6.2: 7\n",
      "Trunc of 6.2: 6\n",
      "Floor of 6.2: 6\n",
      "Factorial of 6.2: 40320\n",
      "Absolute of 6.2: 6.2\n",
      "8raised to the power of 2.734: 294.47472469775494\n",
      " Fmod of 2.734 and 8: 2.734\n",
      "Fsum of [1, 2, 3, 4, 5, 6] and 8: 21.0\n",
      "Prod of [1, 2, 3, 4, 5, 6]: 720\n",
      "Square root of 8: 2.8284271247461903\n"
     ]
    }
   ],
   "source": [
    "import math \n",
    "from math import prod\n",
    "\n",
    "a= 6.2\n",
    "b= -31.4\n",
    "c= 8\n",
    "d= 2.734\n",
    "\n",
    "numbers = [1,2,3,4,5,6]\n",
    "\n",
    "print(f'Ceil of {a}: {math.ceil(a)}')\n",
    "\n",
    "print(f'Trunc of {a}: {math.trunc(a)}')\n",
    "\n",
    "print(f'Floor of {a}: {math.floor(a)}')\n",
    "\n",
    "print(f'Factorial of {a}: {math.factorial(c)}')\n",
    "\n",
    "print(f'Absolute of {a}: {math.fabs(a)}')\n",
    "\n",
    "print(f'{c}raised to the power of {d}: {math.pow(c,d)}')\n",
    "\n",
    "print(f' Fmod of {d} and {c}: {math.fmod(d,c)}')\n",
    "\n",
    "print(f'Fsum of {numbers} and {c}: {math.fsum(numbers)}')\n",
    "\n",
    "print(f'Prod of {numbers}: {prod(numbers)}')\n",
    "\n",
    "print(f\"Square root of {c}: {math.sqrt(c)}\")\n",
    "\n",
    "\n",
    "\n"
   ]
  },
  {
   "cell_type": "markdown",
   "metadata": {},
   "source": [
    "Q 13. **WAP to demonstrate following functions in random module:**\n",
    "a. random()\n",
    "b. randint()\n",
    "c. uniform()\n",
    "d. choice()\n",
    "e. shuffle()\n",
    "f. randrange()"
   ]
  },
  {
   "cell_type": "code",
   "execution_count": 27,
   "metadata": {},
   "outputs": [
    {
     "name": "stdout",
     "output_type": "stream",
     "text": [
      "random(): ,random.random()\n",
      "randint(1,10):) 5\n",
      "uniform(1.0 ,10.0): 5.268487904909296\n",
      "choice(sequence): 3.8586939228977064\n",
      "choice(sequnce): ['banana', 'apple', 'date', 'cherry']\n",
      "randrange(1,10,2): 7\n"
     ]
    }
   ],
   "source": [
    "import random\n",
    "\n",
    "print(\"random(): ,random.random()\")\n",
    "\n",
    "print('randint(1,10):)', random.randint(1,10))\n",
    "\n",
    "print(\"uniform(1.0 ,10.0):\", random.uniform(1.0,10.0))\n",
    "\n",
    "sequence = ['apple', 'banana','cherry','date']\n",
    "print(\"choice(sequence):\", random.uniform(1.0,10.0))\n",
    "\n",
    "random.shuffle(sequence)\n",
    "print('choice(sequnce):', sequence)\n",
    "\n",
    "print('randrange(1,10,2):', random.randrange(1,10,2))\n"
   ]
  },
  {
   "cell_type": "markdown",
   "metadata": {},
   "source": [
    "## List\n"
   ]
  },
  {
   "cell_type": "markdown",
   "metadata": {},
   "source": [
    "Q14. **Write a Python program to remove duplicates from a list.**"
   ]
  },
  {
   "cell_type": "code",
   "execution_count": 30,
   "metadata": {},
   "outputs": [
    {
     "name": "stdout",
     "output_type": "stream",
     "text": [
      "Original list: [1, 1, 2, 2, 3, 3, 4, 4, 5, 5, 6, 6]\n",
      "List without duplicates: [1, 2, 3, 4, 5, 6]\n"
     ]
    }
   ],
   "source": [
    "def remove_duplicates(lst):\n",
    "    return list(set(lst))\n",
    "\n",
    "original_list = [1,1,2,2,3,3,4,4,5,5,6,6]\n",
    "unique_list=  remove_duplicates(original_list)\n",
    "print('Original list:', original_list)\n",
    "print(\"List without duplicates:\",unique_list)"
   ]
  },
  {
   "cell_type": "markdown",
   "metadata": {},
   "source": [
    "Q15.**Write a Python function that takes two lists and returns True if they have at least one common member.**"
   ]
  },
  {
   "cell_type": "code",
   "execution_count": 32,
   "metadata": {},
   "outputs": [
    {
     "name": "stdout",
     "output_type": "stream",
     "text": [
      "True\n",
      "False\n"
     ]
    }
   ],
   "source": [
    "def have_common_member(list1, list2):\n",
    "    for element in list1:\n",
    "        if element in list2:\n",
    "            return True\n",
    "    return False\n",
    "\n",
    "list_1 = [13,14,15,29]\n",
    "list_2 = [1,2,3,4,5,29]\n",
    "print(have_common_member(list_1, list_2))\n",
    "\n",
    "list_3 = [1,2,3,4,5]\n",
    "list_4 = [8,9,10,12,15]\n",
    "print(have_common_member(list_3, list_4))"
   ]
  },
  {
   "cell_type": "markdown",
   "metadata": {},
   "source": [
    "Q16. **Write a Python program to print the numbers of a specified list after removing even numbers from it.**"
   ]
  },
  {
   "cell_type": "code",
   "execution_count": 34,
   "metadata": {},
   "outputs": [
    {
     "name": "stdout",
     "output_type": "stream",
     "text": [
      "3\n",
      "5\n",
      "25\n",
      "7\n",
      "9\n",
      "11\n"
     ]
    }
   ],
   "source": [
    "def print_odd_number(number_list):\n",
    "    for number in number_list:\n",
    "        if number %2 !=0 :\n",
    "            print(number)\n",
    "\n",
    "my_list =[ 2,3,4,5,6,25,7,8,8,9,10,11]\n",
    "print_odd_number(my_list)"
   ]
  },
  {
   "cell_type": "markdown",
   "metadata": {},
   "source": [
    "Q17. **Write a Python program to find the second smallest number in a list.**"
   ]
  },
  {
   "cell_type": "code",
   "execution_count": 36,
   "metadata": {},
   "outputs": [
    {
     "name": "stdout",
     "output_type": "stream",
     "text": [
      "The Second smallest number is: 109\n"
     ]
    }
   ],
   "source": [
    "def second_smallest(input_list):\n",
    "    if len(input_list)< 2 :\n",
    "        return None\n",
    "    unique_member = list(set(input_list))\n",
    "    unique_member.sort()\n",
    "    return unique_member[1]\n",
    "\n",
    "sample_list = [100,109,120,200,225]\n",
    "second_smallest = second_smallest(sample_list)\n",
    "print(f'The Second smallest number is: {second_smallest}')\n",
    "    \n",
    "\t"
   ]
  },
  {
   "cell_type": "markdown",
   "metadata": {},
   "source": [
    "Q18. **Write a Python program to split a list every Nth element.**"
   ]
  },
  {
   "cell_type": "code",
   "execution_count": 38,
   "metadata": {},
   "outputs": [
    {
     "name": "stdout",
     "output_type": "stream",
     "text": [
      "Original list: [5, 25, 125, 625, 1000, 5000]\n",
      "List split every 5th element: [[5, 25, 125, 625, 1000], [5000]]\n"
     ]
    }
   ],
   "source": [
    "def split_list_nth(lst,n):\n",
    "    return [lst[i:i+n] for i in range(0,len(lst),n)]\n",
    "sample_list = [5,25,125,625,1000,5000]\n",
    "n=5\n",
    "split_list= split_list_nth(sample_list,n)\n",
    "\n",
    "print(f'Original list: {sample_list}')\n",
    "print(f'List split every {n}th element: {split_list}')\n",
    "    "
   ]
  },
  {
   "cell_type": "markdown",
   "metadata": {},
   "source": [
    "Q19. **Write a Python function to find the union and intersection of two lists.**"
   ]
  },
  {
   "cell_type": "code",
   "execution_count": 40,
   "metadata": {},
   "outputs": [
    {
     "name": "stdout",
     "output_type": "stream",
     "text": [
      "Union: [1, 2, 3, 4, 5, 6, 7, 8, 9]\n",
      "Intersection: [4, 5, 6]\n"
     ]
    }
   ],
   "source": [
    "def union_intersection(list_1,list_2):\n",
    "    union = list(set(list_1).union(set(list_2)))\n",
    "    intersection = list(set(list_1).intersection(set(list_2)))\n",
    "    return union , intersection\n",
    "\n",
    "list_1= [1,2,3,4,5,6,]\n",
    "list_2= [4,5,6,7,8,9]\n",
    "union_result, intersection_result = union_intersection(list_1,list_2)\n",
    "\n",
    "print(\"Union:\",union_result)\n",
    "print(\"Intersection:\",intersection_result)\n",
    "                    \n",
    "    \n",
    "\n",
    "    "
   ]
  },
  {
   "cell_type": "markdown",
   "metadata": {},
   "source": [
    "Q20. **Write a Python function to check if a list is a palindrome or not. Return true otherwise false.**"
   ]
  },
  {
   "cell_type": "code",
   "execution_count": 43,
   "metadata": {},
   "outputs": [
    {
     "name": "stdout",
     "output_type": "stream",
     "text": [
      "True\n",
      "False\n"
     ]
    }
   ],
   "source": [
    "def is_palindrome(lst):\n",
    "    return lst == lst[::-1]\n",
    "\n",
    "list1=[11,12,13,12,11]\n",
    "list2=[1,2,4,5,6,4,3,2,1]\n",
    "print(is_palindrome(list1))\n",
    "print(is_palindrome(list2))"
   ]
  },
  {
   "cell_type": "markdown",
   "metadata": {},
   "source": [
    "Q21. **WAP to create a menu based program for insertion, deletion, access, updation, traversal of list elements.**"
   ]
  },
  {
   "cell_type": "code",
   "execution_count": 2,
   "metadata": {},
   "outputs": [
    {
     "name": "stdout",
     "output_type": "stream",
     "text": [
      "\n",
      "Menu:\n",
      "1. Insert Element\n",
      "2. Delete Element\n",
      "3. Access Element\n",
      "4. Update Element\n",
      "5. Traverse List\n",
      "6. Exit\n",
      "Element '7' inserted.\n",
      "\n",
      "Menu:\n",
      "1. Insert Element\n",
      "2. Delete Element\n",
      "3. Access Element\n",
      "4. Update Element\n",
      "5. Traverse List\n",
      "6. Exit\n"
     ]
    }
   ],
   "source": [
    "def display_menu():\n",
    "    print(\"\\nMenu:\")\n",
    "    print(\"1. Insert Element\")\n",
    "    print(\"2. Delete Element\")\n",
    "    print(\"3. Access Element\")\n",
    "    print(\"4. Update Element\")\n",
    "    print(\"5. Traverse List\")\n",
    "    print(\"6. Exit\")\n",
    "\n",
    "def main():\n",
    "    my_list = [1,2,3,4,5]\n",
    "    while True:\n",
    "        display_menu()\n",
    "        choice = input(\"Enter your choice (1-6): \")\n",
    "\n",
    "        if choice == '1':\n",
    "            element = input(\"Enter element to insert: \")\n",
    "            my_list.append(element)\n",
    "            print(f\"Element '{element}' inserted.\")\n",
    "\n",
    "        elif choice == '2':\n",
    "            element = input(\"Enter element to delete: \")\n",
    "            if element in my_list:\n",
    "                my_list.remove(element)\n",
    "                print(f\"Element '{element}' deleted.\")\n",
    "            else:\n",
    "                print(f\"Element '{element}' not found in the list.\")\n",
    "\n",
    "        elif choice == '3':\n",
    "            index = int(input(\"Enter index to access: \"))\n",
    "            if 0 <= index < len(my_list):\n",
    "                print(f\"Element at index {index}: {my_list[index]}\")\n",
    "            else:\n",
    "                print(\"Index out of range.\")\n",
    "\n",
    "        elif choice == '4':\n",
    "            index = int(input(\"Enter index to update: \"))\n",
    "            if 0 <= index < len(my_list):\n",
    "                new_value = input(\"Enter new value: \")\n",
    "                my_list[index] = new_value\n",
    "                print(f\"Element at index {index} updated to '{new_value}'.\")\n",
    "            else:\n",
    "                print(\"Index out of range.\")\n",
    "\n",
    "        elif choice == '5':\n",
    "            print(\"Traversing the list:\")\n",
    "            for i, item in enumerate(my_list):\n",
    "                print(f\"Index {i}: {item}\")\n",
    "\n",
    "        elif choice == '6':\n",
    "            print(\"Exiting the program.\")\n",
    "            break\n",
    "\n",
    "        else:\n",
    "            print(\"Invalid choice. Please try again.\")\n",
    "\n",
    "if __name__ == \"__main__\":\n",
    "    main()\n",
    "\n",
    "\n",
    "\n",
    "\n"
   ]
  },
  {
   "cell_type": "markdown",
   "metadata": {},
   "source": [
    "Q22. **WAP to create create, access, add elements, delete, modify elements in nested list.**"
   ]
  },
  {
   "cell_type": "code",
   "execution_count": 1,
   "metadata": {},
   "outputs": [
    {
     "name": "stdout",
     "output_type": "stream",
     "text": [
      "\n",
      "Menu:\n",
      "1. Create a nested list\n",
      "2. Access an element\n",
      "3. Add an element\n",
      "4. Delete an element\n",
      "5. Modify an element\n",
      "6. Display the nested list\n",
      "7. Exit\n",
      "Nested list created.\n",
      "\n",
      "Menu:\n",
      "1. Create a nested list\n",
      "2. Access an element\n",
      "3. Add an element\n",
      "4. Delete an element\n",
      "5. Modify an element\n",
      "6. Display the nested list\n",
      "7. Exit\n",
      "Nested list created.\n",
      "\n",
      "Menu:\n",
      "1. Create a nested list\n",
      "2. Access an element\n",
      "3. Add an element\n",
      "4. Delete an element\n",
      "5. Modify an element\n",
      "6. Display the nested list\n",
      "7. Exit\n",
      "Invalid choice, please try again.\n",
      "\n",
      "Menu:\n",
      "1. Create a nested list\n",
      "2. Access an element\n",
      "3. Add an element\n",
      "4. Delete an element\n",
      "5. Modify an element\n",
      "6. Display the nested list\n",
      "7. Exit\n",
      "Invalid choice, please try again.\n",
      "\n",
      "Menu:\n",
      "1. Create a nested list\n",
      "2. Access an element\n",
      "3. Add an element\n",
      "4. Delete an element\n",
      "5. Modify an element\n",
      "6. Display the nested list\n",
      "7. Exit\n",
      "Invalid choice, please try again.\n",
      "\n",
      "Menu:\n",
      "1. Create a nested list\n",
      "2. Access an element\n",
      "3. Add an element\n",
      "4. Delete an element\n",
      "5. Modify an element\n",
      "6. Display the nested list\n",
      "7. Exit\n"
     ]
    }
   ],
   "source": [
    "def display_menu():\n",
    "    print(\"\\nMenu:\")\n",
    "    print(\"1. Create a nested list\")\n",
    "    print(\"2. Access an element\")\n",
    "    print(\"3. Add an element\")\n",
    "    print(\"4. Delete an element\")\n",
    "    print(\"5. Modify an element\")\n",
    "    print(\"6. Display the nested list\")\n",
    "    print(\"7. Exit\")\n",
    "\n",
    "def main():\n",
    "    nested_list = []\n",
    "\n",
    "    while True:\n",
    "        display_menu()\n",
    "        choice = input(\"Choose an option (1-7): \")\n",
    "\n",
    "        if choice == '1':\n",
    "            nested_list = [\n",
    "                [\"apple\", \"banana\"],\n",
    "                [\"carrot\", \"daikon\"],\n",
    "                [\"eggplant\", \"fig\"]\n",
    "            ]\n",
    "            print(\"Nested list created.\")\n",
    "\n",
    "        elif choice == '2':\n",
    "            row = int(input(\"Enter the row index: \"))\n",
    "            col = int(input(\"Enter the column index: \"))\n",
    "            if row < len(nested_list) and col < len(nested_list[row]):\n",
    "                print(f\"Element at [{row}][{col}]: {nested_list[row][col]}\")\n",
    "            else:\n",
    "                print(\"Index out of range.\")\n",
    "\n",
    "        elif choice == '3':\n",
    "            row = int(input(\"Enter the row index to add an element (create new if it doesn't exist): \"))\n",
    "            element = input(\"Enter the element to add: \")\n",
    "            while len(nested_list) <= row:\n",
    "                nested_list.append([])  # Create new rows if necessary\n",
    "            nested_list[row].append(element)\n",
    "            print(f\"Added '{element}' to row {row}.\")\n",
    "\n",
    "        elif choice == '4':\n",
    "            row = int(input(\"Enter the row index to delete an element: \"))\n",
    "            col = int(input(\"Enter the column index: \"))\n",
    "            if row < len(nested_list) and col < len(nested_list[row]):\n",
    "                deleted_element = nested_list[row].pop(col)\n",
    "                print(f\"Deleted element '{deleted_element}' from [{row}][{col}].\")\n",
    "            else:\n",
    "                print(\"Index out of range.\")\n",
    "\n",
    "        elif choice == '5':\n",
    "            row = int(input(\"Enter the row index of the element to modify: \"))\n",
    "            col = int(input(\"Enter the column index: \"))\n",
    "            if row < len(nested_list) and col < len(nested_list[row]):\n",
    "                new_value = input(\"Enter the new value: \")\n",
    "                nested_list[row][col] = new_value\n",
    "                print(f\"Modified element at [{row}][{col}] to '{new_value}'.\")\n",
    "            else:\n",
    "                print(\"Index out of range.\")\n",
    "\n",
    "        elif choice == '6':\n",
    "            print(\"Current nested list:\")\n",
    "            for i, row in enumerate(nested_list):\n",
    "                print(f\"Row {i}: {row}\")\n",
    "\n",
    "        elif choice == '7':\n",
    "            print(\"Exiting the program.\")\n",
    "            break\n",
    "\n",
    "        else:\n",
    "            print(\"Invalid choice, please try again.\")\n",
    "\n",
    "if __name__ == \"__main__\":\n",
    "    main()\n",
    "\n"
   ]
  },
  {
   "cell_type": "markdown",
   "metadata": {},
   "source": [
    "Q23. **Write a program for various list slicing operation.**\n",
    "a= [10,20,30,40,50,60,70,80,90,100]\n",
    "\n",
    "i. Print Complete list\n",
    "ii. Print 4th element of list\n",
    "iii. Print list from 0th to 4th index.\n",
    "iv. Print list -7th to 3rd element\n",
    "v. Appending an element to list.\n",
    "vi. Sorting the element of list.\n",
    "vii. Popping an element.\n",
    "viii. Removing Specified element.\n",
    "ix. Entering an element at specified index.\n",
    "x. Counting the occurrence of a specified element.\n",
    "xi. Extending list.\n",
    "xii. Reversing the list."
   ]
  },
  {
   "cell_type": "code",
   "execution_count": 3,
   "metadata": {},
   "outputs": [
    {
     "name": "stdout",
     "output_type": "stream",
     "text": [
      "Compare list:  [10, 20, 30, 40, 50, 60, 70, 80, 90, 100]\n",
      "4th element of list:  40\n",
      "List from 0th th 4th index:  [10, 20, 30, 40, 50]\n",
      "List from -7th to 3rd element:  [40]\n",
      "List after appending 110:  [10, 20, 30, 40, 50, 60, 70, 80, 90, 100, 110]\n",
      "List after sorting: [10, 20, 30, 40, 50, 60, 70, 80, 90, 100, 110]\n",
      "Popped element:  110\n",
      "list after popping an element:  [10, 20, 30, 40, 50, 60, 70, 80, 90, 100]\n",
      "List after removing 40: [10, 20, 30, 50, 60, 70, 80, 90, 100]\n",
      "List after inserting 45 at index 2:  [10, 20, 45, 30, 50, 60, 70, 80, 90, 100]\n",
      "Count of 60 in list:  1\n",
      "List after extending:  [10, 20, 45, 30, 50, 60, 70, 80, 90, 100, 120, 130, 140]\n",
      "List after reversing:  [140, 130, 120, 100, 90, 80, 70, 60, 50, 30, 45, 20, 10]\n"
     ]
    }
   ],
   "source": [
    "a = [10,20,30,40,50,60,70,80,90,100]\n",
    "\n",
    "print(\"Compare list: \",a)\n",
    "\n",
    "print('4th element of list: ', a[3])\n",
    "\n",
    "print('List from 0th th 4th index: ', a[0:5])\n",
    "\n",
    "print('List from -7th to 3rd element: ', a[-7:4])\n",
    "\n",
    "a.append(110)\n",
    "print(\"List after appending 110: \" , a)\n",
    "\n",
    "a.sort()\n",
    "print(\"List after sorting:\",a)\n",
    "\n",
    "popped_element = a.pop()\n",
    "print(\"Popped element: \", popped_element)\n",
    "print(\"list after popping an element: \", a)\n",
    "\n",
    "a.remove(40)\n",
    "print(\"List after removing 40:\",a)\n",
    "\n",
    "a.insert(2,45)\n",
    "print(\"List after inserting 45 at index 2: \",a)\n",
    "\n",
    "count_60= a.count(60)\n",
    "print(\"Count of 60 in list: \", count_60)\n",
    "\n",
    "a.extend([120,130,140])\n",
    "print(\"List after extending: \",a)\n",
    "\n",
    "\n",
    "\n",
    "a.reverse()\n",
    "print(\"List after reversing: \",a)"
   ]
  },
  {
   "cell_type": "markdown",
   "metadata": {},
   "source": [
    "Q24. **WAP to add two matrices using nested list ?**\n"
   ]
  },
  {
   "cell_type": "code",
   "execution_count": 4,
   "metadata": {},
   "outputs": [
    {
     "name": "stdout",
     "output_type": "stream",
     "text": [
      "Sum of matrices: \n",
      "[10, 10, 10]\n",
      "[10, 10, 10]\n",
      "[10, 10, 10]\n"
     ]
    }
   ],
   "source": [
    "def add_matrices(matrix1 , matrix2):\n",
    "    result = []\n",
    "    \n",
    "    for i in range(len(matrix1)):\n",
    "        result.append([matrix1[i][j] + matrix2[i][j] for j in range(len(matrix1[0]))])\n",
    "    return result\n",
    "\n",
    "matrix1= [\n",
    "    [1,2,3],\n",
    "    [4,5,6],\n",
    "    [7,8,9]\n",
    "]\n",
    "\n",
    "matrix2 = [\n",
    "    [9,8,7],\n",
    "    [6,5,4],\n",
    "    [3,2,1]\n",
    "]\n",
    "\n",
    "result = add_matrices(matrix1,matrix2)\n",
    "\n",
    "print(\"Sum of matrices: \")\n",
    "for row in result:\n",
    "    print(row)\n",
    "        "
   ]
  },
  {
   "cell_type": "markdown",
   "metadata": {},
   "source": [
    "Q25. **Consider a list with mixed type of elements such as l1=[1,’x’,4,5.6,’z’,9,’a’,0,4]. Create another list l2 using list comprehension which consist of only integer element present within list l1.**"
   ]
  },
  {
   "cell_type": "code",
   "execution_count": 5,
   "metadata": {},
   "outputs": [
    {
     "name": "stdout",
     "output_type": "stream",
     "text": [
      "List of integers from 11: 12\n"
     ]
    }
   ],
   "source": [
    "l1 = [1,'x',4, 5.6, 'y',9,'z',0.4]\n",
    "\n",
    "l2 = [item for item in l1 if isinstance(item,int) ]\n",
    "\n",
    "print('List of integers from 11:', 12)"
   ]
  },
  {
   "cell_type": "markdown",
   "metadata": {},
   "source": [
    "## Tuple ##\n",
    "\n"
   ]
  },
  {
   "cell_type": "markdown",
   "metadata": {},
   "source": [
    "Q26. **Write a Python program to compute the element-wise sum of given tuples.**\n",
    "Original : (1, 2, 3, 4) (3, 5, 2, 1) (2, 2, 3, 1)\n",
    "Element-wise sum of the said tuples: (6, 9, 8, 6)"
   ]
  },
  {
   "cell_type": "code",
   "execution_count": 6,
   "metadata": {},
   "outputs": [
    {
     "name": "stdout",
     "output_type": "stream",
     "text": [
      "Element_wise sum of the said tuples:  (6, 9, 8, 6)\n"
     ]
    }
   ],
   "source": [
    "tuple1 = (1,2,3,4)\n",
    "tuple2 = (3,5,2,1)\n",
    "tuple3 = (2,2,3,1)\n",
    "\n",
    "elementwise_sum = []\n",
    "for i in range(len(tuple1)):\n",
    "    elementwise_sum.append(tuple1[i] + tuple2[i]  + tuple3[i])\n",
    "    \n",
    "elementwise_sum = tuple(elementwise_sum)\n",
    "print(\"Element_wise sum of the said tuples: \", elementwise_sum)"
   ]
  },
  {
   "cell_type": "markdown",
   "metadata": {},
   "source": [
    "Q27. **Write a Python program to convert a given list of tuples to a list of lists. Original list of tuples: [(1, 2), (2, 3), (3, 4)] . Convert the said list of tuples to a list of lists: [[1, 2], [2, 3], [3, 4]]**\n"
   ]
  },
  {
   "cell_type": "code",
   "execution_count": 26,
   "metadata": {},
   "outputs": [
    {
     "name": "stdout",
     "output_type": "stream",
     "text": [
      "Convert the said list of tuples to a list of lists:  [[1, 2], [2, 3], [3, 4]]\n"
     ]
    }
   ],
   "source": [
    "original_tuples = [(1,2),(2,3),(3,4)]\n",
    "list_of_list = [list(t) for t in  original_tuples ]\n",
    "print(\"Convert the said list of tuples to a list of lists: \",list_of_list)"
   ]
  },
  {
   "cell_type": "markdown",
   "metadata": {},
   "source": [
    "Q28.**Write a Python program to remove an empty tuple(s) from a list of tuples**"
   ]
  },
  {
   "cell_type": "code",
   "execution_count": 25,
   "metadata": {},
   "outputs": [
    {
     "name": "stdout",
     "output_type": "stream",
     "text": [
      "List after removing empty tuples:  [(1, 2), (3, 4), (5,)]\n"
     ]
    }
   ],
   "source": [
    "tuples_list= [(1,2),(),(3,4),(),(5,)]\n",
    "\n",
    "filtered_list = [t for t in tuples_list if t ]\n",
    "print(\"List after removing empty tuples: \", filtered_list)"
   ]
  },
  {
   "cell_type": "markdown",
   "metadata": {},
   "source": [
    "Q29.**Write a Python program to convert a given string to a tuple** \n"
   ]
  },
  {
   "cell_type": "code",
   "execution_count": 24,
   "metadata": {},
   "outputs": [
    {
     "name": "stdout",
     "output_type": "stream",
     "text": [
      "Tuple of words:  ('python', 'is', 'my', 'domain')\n"
     ]
    }
   ],
   "source": [
    "string = \"python is my domain\"\n",
    "\n",
    "tuple_of_words = tuple(string.split())\n",
    "print(\"Tuple of words: \", tuple_of_words)"
   ]
  },
  {
   "cell_type": "markdown",
   "metadata": {},
   "source": [
    "Q30. **Write a Python program to calculate the product, mul;plying all the numbers in a given  tuple.**"
   ]
  },
  {
   "cell_type": "code",
   "execution_count": 23,
   "metadata": {},
   "outputs": [
    {
     "name": "stdout",
     "output_type": "stream",
     "text": [
      "Product of the number in the tuple:  5040\n"
     ]
    }
   ],
   "source": [
    "num= (1,2,3,4,5,6,7)\n",
    "prod=1\n",
    "\n",
    "for num in num:\n",
    "    prod *= num\n",
    "    \n",
    "print(\"Product of the number in the tuple: \",prod)"
   ]
  },
  {
   "cell_type": "markdown",
   "metadata": {},
   "source": [
    "Q31. **WAP to create a list of square of numbers from 1 to 20 using List comprehension**\n"
   ]
  },
  {
   "cell_type": "code",
   "execution_count": 21,
   "metadata": {},
   "outputs": [
    {
     "name": "stdout",
     "output_type": "stream",
     "text": [
      "List of squares from 1 to 20:  [1, 4, 9, 16, 25, 36, 49, 64, 81, 100, 121, 144, 169, 196, 225, 256, 289, 324, 361, 400]\n"
     ]
    }
   ],
   "source": [
    "squares=[]\n",
    "\n",
    "for x in range(1,21):\n",
    "    squares.append(x**2)\n",
    "    \n",
    "print(\"List of squares from 1 to 20: \", squares)\n",
    "\n"
   ]
  },
  {
   "cell_type": "markdown",
   "metadata": {},
   "source": [
    "## Set"
   ]
  },
  {
   "cell_type": "markdown",
   "metadata": {},
   "source": [
    "Q32. **Write a Python program to remove an item from a set if it is present in the set.**"
   ]
  },
  {
   "cell_type": "code",
   "execution_count": 20,
   "metadata": {},
   "outputs": [
    {
     "name": "stdout",
     "output_type": "stream",
     "text": [
      "Set after removing the items {1, 2, 3, 4, 6, 7}\n"
     ]
    }
   ],
   "source": [
    "set1 = {1,2,3,4,5,6,7}\n",
    "item_to_remove = 5\n",
    "\n",
    "if item_to_remove in set1:\n",
    "    set1.remove(item_to_remove)\n",
    "    \n",
    "print(\"Set after removing the items\",set1)"
   ]
  },
  {
   "cell_type": "markdown",
   "metadata": {},
   "source": [
    "Q33.**Write a Python program to check if two given sets have no elements in common.**"
   ]
  },
  {
   "cell_type": "code",
   "execution_count": 15,
   "metadata": {},
   "outputs": [
    {
     "name": "stdout",
     "output_type": "stream",
     "text": [
      "The two sets have some elements in common. \n"
     ]
    }
   ],
   "source": [
    "set1= {1,2,3}\n",
    "set2={2,5,6}\n",
    "\n",
    "if set1 & set2 == set():\n",
    "    print(\"The two sets have no elements in common. \")\n",
    "else:\n",
    "    print(\"The two sets have some elements in common. \")"
   ]
  },
  {
   "cell_type": "markdown",
   "metadata": {},
   "source": [
    "Q34. **Get Only unique items from two sets**\n"
   ]
  },
  {
   "cell_type": "code",
   "execution_count": 13,
   "metadata": {},
   "outputs": [
    {
     "name": "stdout",
     "output_type": "stream",
     "text": [
      "{1, 2, 4, 5, 6, 7}\n"
     ]
    }
   ],
   "source": [
    "set1 = {1,2,3,5}\n",
    "set2= {3,4,7,6}\n",
    "\n",
    "unique_list = set1.union(set2) - set1.intersection(set2)\n",
    "print(unique_list)"
   ]
  },
  {
   "cell_type": "markdown",
   "metadata": {},
   "source": [
    "Q35.**Write a Python program to Convert Set to one String**\n"
   ]
  },
  {
   "cell_type": "code",
   "execution_count": 10,
   "metadata": {},
   "outputs": [
    {
     "name": "stdout",
     "output_type": "stream",
     "text": [
      "banana, cherry, apple\n"
     ]
    }
   ],
   "source": [
    "my_set = {'apple','banana','cherry'}\n",
    "set_as_string = ', '.join(my_set)\n",
    "print(set_as_string)"
   ]
  },
  {
   "cell_type": "markdown",
   "metadata": {},
   "source": [
    "Q36.**WAP to count number of vowels using sets in given string**\n"
   ]
  },
  {
   "cell_type": "code",
   "execution_count": 9,
   "metadata": {},
   "outputs": [
    {
     "name": "stdout",
     "output_type": "stream",
     "text": [
      "5\n"
     ]
    }
   ],
   "source": [
    "string = input(\"Enter the string:\")\n",
    "v = 'aeiouAEIOU'\n",
    "count=0\n",
    "\n",
    "for char in string:\n",
    "    if char in v:\n",
    "        count += 1\n",
    "print(count)"
   ]
  },
  {
   "cell_type": "markdown",
   "metadata": {},
   "source": [
    "Q37.**WAP to create a set of cubes of even numbers from 2 to 12 using set comprehension.**\n"
   ]
  },
  {
   "cell_type": "code",
   "execution_count": 8,
   "metadata": {},
   "outputs": [
    {
     "name": "stdout",
     "output_type": "stream",
     "text": [
      "[8, 64, 216, 512, 1000, 1728]\n"
     ]
    }
   ],
   "source": [
    "cubes_of_even_num = {x**3 for x in range(2,13,2)}\n",
    "print(sorted(cubes_of_even_num))"
   ]
  },
  {
   "cell_type": "markdown",
   "metadata": {},
   "source": [
    "## Dictionary \n"
   ]
  },
  {
   "cell_type": "markdown",
   "metadata": {},
   "source": [
    "Q38.**Write a Python script to sort (ascending and descending) a dictionary by value.**"
   ]
  },
  {
   "cell_type": "code",
   "execution_count": 7,
   "metadata": {},
   "outputs": [
    {
     "name": "stdout",
     "output_type": "stream",
     "text": [
      "Sorted by value (ascending): {'banana': 1, 'cherry': 2, 'apple': 3, 'date': 4}\n",
      "Sorted by value (descending): {'date': 4, 'apple': 3, 'cherry': 2, 'banana': 1}\n"
     ]
    }
   ],
   "source": [
    "my_dict = { 'apple':3, 'banana' :1 ,'cherry':2, 'date':4}\n",
    "\n",
    "sorted_asc ={k: v for k, v in sorted(my_dict.items(), key=lambda item: item[1])}\n",
    "print(\"Sorted by value (ascending):\", sorted_asc)\n",
    "\n",
    "sorted_desc = {k: v for k, v in sorted(my_dict.items(), key=lambda item: item[1], reverse=True)}\n",
    "print(\"Sorted by value (descending):\", sorted_desc)"
   ]
  },
  {
   "cell_type": "markdown",
   "metadata": {},
   "source": [
    "Q39.**Write a Python program to remove duplicates from the dictionary.**"
   ]
  },
  {
   "cell_type": "code",
   "execution_count": 6,
   "metadata": {},
   "outputs": [
    {
     "name": "stdout",
     "output_type": "stream",
     "text": [
      "Dictionary after removing duplicates: {'apple': 1, 'banana': 2, 'date': 3}\n"
     ]
    }
   ],
   "source": [
    "my_dict = {\n",
    "    'apple':1,\n",
    "    'banana': 2,\n",
    "    'cherry': 2,\n",
    "    'date': 3,\n",
    "    'elderberry': 1\n",
    "}\n",
    "\n",
    "unique_dict = {}\n",
    "for key, value in my_dict.items():\n",
    "    if value not in unique_dict.values():\n",
    "        unique_dict[key] = value\n",
    "\n",
    "\n",
    "print(\"Dictionary after removing duplicates:\", unique_dict)\n",
    "\n"
   ]
  },
  {
   "cell_type": "markdown",
   "metadata": {},
   "source": [
    "Q40. **Write a Python program to combine two dic;onary by adding values for common keys.** "
   ]
  },
  {
   "cell_type": "code",
   "execution_count": 5,
   "metadata": {},
   "outputs": [
    {
     "name": "stdout",
     "output_type": "stream",
     "text": [
      "{'a': 1, 'b': 5, 'c': 7, 'd': 5}\n"
     ]
    }
   ],
   "source": [
    "def combine_dictionaries(dict1, dict2):\n",
    "    combined_dict = dict1.copy()\n",
    "    for key, value in dict2.items():\n",
    "        if key in combined_dict:\n",
    "            combined_dict[key] += value  \n",
    "        else:\n",
    "            combined_dict[key] = value   \n",
    "    return combined_dict\n",
    "\n",
    " \n",
    "dict1 = {'a': 1, 'b': 2, 'c': 3}\n",
    "dict2 = {'b': 3, 'c': 4, 'd': 5}\n",
    "\n",
    "result = combine_dictionaries(dict1, dict2)\n",
    "print(result)  \n"
   ]
  },
  {
   "cell_type": "markdown",
   "metadata": {},
   "source": [
    "Q41.**Write a Python program to create a dictionary from a string. ( Track the count of the  letters from the string.)**\n"
   ]
  },
  {
   "cell_type": "code",
   "execution_count": 4,
   "metadata": {},
   "outputs": [
    {
     "name": "stdout",
     "output_type": "stream",
     "text": [
      "{'h': 1, 'e': 1, 'l': 3, 'o': 2, 'w': 1, 'r': 1, 'd': 1}\n"
     ]
    }
   ],
   "source": [
    "def count_letters(input_string):\n",
    "    letter_count = {}  # Initialize the dictionary here\n",
    "\n",
    "    for char in input_string:\n",
    "        if char.isalpha():   \n",
    "            char = char.lower()  \n",
    "            if char in letter_count:\n",
    "                letter_count[char] += 1  \n",
    "            else:\n",
    "                letter_count[char] = 1\n",
    "                  \n",
    "    return letter_count\n",
    "\n",
    "input_string = \"Hello, World!\"\n",
    "result = count_letters(input_string)\n",
    "print(result)"
   ]
  },
  {
   "cell_type": "markdown",
   "metadata": {},
   "source": [
    "Q42.**Write a Python program to match key and values both, in two dictionaries.**  \n"
   ]
  },
  {
   "cell_type": "code",
   "execution_count": 3,
   "metadata": {},
   "outputs": [
    {
     "name": "stdout",
     "output_type": "stream",
     "text": [
      "{'b': 2}\n"
     ]
    }
   ],
   "source": [
    "def match_dicts(dict1, dict2):\n",
    "    matches = {}\n",
    "    \n",
    "    for key in dict1:\n",
    "        if key in dict2 and dict1[key] == dict2[key]:\n",
    "            matches[key] = dict1[key]  \n",
    "\n",
    "    return matches\n",
    "\n",
    " \n",
    "dict1 = {'a': 1, 'b': 2, 'c': 3}\n",
    "dict2 = {'b': 2, 'c': 4, 'd': 1}\n",
    "\n",
    "result = match_dicts(dict1, dict2)\n",
    "print(result)  \n"
   ]
  },
  {
   "cell_type": "markdown",
   "metadata": {},
   "source": [
    "Q43.**Use dic;onary comprehension to convert the price of following dic;onary from dollar to  pound** old_price = {'milk': 1.02, 'coffee': 2.5, 'bread': 2.5} \n"
   ]
  },
  {
   "cell_type": "code",
   "execution_count": 2,
   "metadata": {},
   "outputs": [
    {
     "name": "stdout",
     "output_type": "stream",
     "text": [
      "{'milk': 0.7446, 'coffee': 1.825, 'bread': 1.825}\n"
     ]
    }
   ],
   "source": [
    "conversion_rate = 0.73\n",
    "\n",
    "old_price = {'milk': 1.02, 'coffee': 2.5, 'bread': 2.5}\n",
    "\n",
    "new_price = {item: price * conversion_rate for item, price in old_price.items()}\n",
    "\n",
    "print(new_price)  "
   ]
  },
  {
   "cell_type": "markdown",
   "metadata": {},
   "source": [
    "Q44. **Use dic;onary comprehension to create a dic;onary to store only key value pairs having  even age.**\n",
    "original_dict = {'jack': 38, 'michael': 48, 'guido': 57, 'john': 33}\n"
   ]
  },
  {
   "cell_type": "code",
   "execution_count": 1,
   "metadata": {},
   "outputs": [
    {
     "name": "stdout",
     "output_type": "stream",
     "text": [
      "{'jack': 38, 'michael': 48}\n"
     ]
    }
   ],
   "source": [
    "original_dict = {'jack': 38, 'michael': 48, 'guido': 57, 'john': 33}\n",
    "\n",
    "even_age_dict = {name: age for name, age in original_dict.items() if age % 2 == 0}\n",
    "\n",
    "print(even_age_dict)  \n"
   ]
  }
 ],
 "metadata": {
  "kernelspec": {
   "display_name": "Python 3",
   "language": "python",
   "name": "python3"
  },
  "language_info": {
   "codemirror_mode": {
    "name": "ipython",
    "version": 3
   },
   "file_extension": ".py",
   "mimetype": "text/x-python",
   "name": "python",
   "nbconvert_exporter": "python",
   "pygments_lexer": "ipython3",
   "version": "3.12.6"
  }
 },
 "nbformat": 4,
 "nbformat_minor": 2
}
